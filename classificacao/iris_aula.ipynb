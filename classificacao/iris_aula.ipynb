{
 "cells": [
  {
   "cell_type": "markdown",
   "metadata": {},
   "source": [
    "<h1 style='color:blue'>Classificação de uma Flor</h1>"
   ]
  },
  {
   "cell_type": "markdown",
   "metadata": {},
   "source": [
    "## Machine learning e o iris dataset\n",
    "\n",
    "- É um problema de **supervised learning**: Prever a espécie de uma flor iris usando ML\n",
    "- O mais famoso dataset de machine learning\n",
    "- Leia mais sobre iris dataset em: [UCI Machine Learning Repository](http://archive.ics.uci.edu/ml/datasets/Iris)"
   ]
  },
  {
   "cell_type": "markdown",
   "metadata": {},
   "source": [
    "Iris. é um género de plantas com flor, muito apreciado pelas suas diversas espécies, que ostentam flores de cores muito vivas. São, vulgarmente, designadas como lírios, embora tal termo se aplique com mais propriedade a outro tipo de flor. É uma flor muito frequente em jardins. O termo íris é compartilhado, contudo, com outros géneros botânicos relacionados, da família Iridaceae. O termo pode ainda aplicar-se a uma subdivisão neste género."
   ]
  },
  {
   "cell_type": "markdown",
   "metadata": {},
   "source": [
    "![Iris](iris.png)"
   ]
  },
  {
   "cell_type": "code",
   "execution_count": null,
   "metadata": {
    "collapsed": true
   },
   "outputs": [],
   "source": []
  },
  {
   "cell_type": "markdown",
   "metadata": {},
   "source": [
    "<h1 style='color:blue'>CLASSIFICANDO COM KNN</h1>\n",
    "\n",
    "k -nearest algoritmo vizinhos ( k -NN ) é um método não-paramétrico utilizado para a classificação e regressão. Em ambos os casos, a entrada consiste nos k exemplos de treinamento mais próximos. <br/>\n",
    "\n",
    "Na classificação k-NN, a saída é uma associação de classe. Um objeto é classificado por um voto majoritário de seus vizinhos, sendo o objeto atribuído à classe mais comum entre seus k vizinhos mais próximos.\n",
    "\n",
    "<br/>\n",
    "k é um inteiro positivo, tipicamente pequeno e impar. <br/>\n",
    "Se k  = 1, então o objeto é simplesmente atribuído à classe desse único vizinho mais próximo."
   ]
  },
  {
   "cell_type": "markdown",
   "metadata": {},
   "source": [
    "![knn](KNN.png)"
   ]
  },
  {
   "cell_type": "markdown",
   "metadata": {},
   "source": [
    "<h1 style='color:blue'>CLASSIFICANDO COM ÁRVORES DE DECISÃO</h1>\n",
    "As Árvores de Decisão são dos modelos mais práticos e mais usados em inferência indutiva. <br/>\n",
    "Este método representa funções como árvores de decisão. <br/>\n",
    "Estas árvores são treinadas de acordo com um conjunto de treino (exemplos previamente classificados) e posteriormente, outros exemplos são classificados de acordo com essa mesma árvore. Para a construção destas árvores são usados algoritmos como o ID3, ASSISTANT e C4.5."
   ]
  },
  {
   "cell_type": "markdown",
   "metadata": {},
   "source": [
    "![tree](tree.gif)"
   ]
  },
  {
   "cell_type": "markdown",
   "metadata": {},
   "source": [
    "<h1 style='color:blue'>CLASSIFICANDO COM SVM</h1>\n",
    "\n",
    "SVM faz é encontrar uma linha de separação, mais comumente chamada de hiperplano entre dados de duas classes. Essa linha busca maximizar a distância entre os pontos mais próximos em relação a cada uma das classe"
   ]
  },
  {
   "cell_type": "markdown",
   "metadata": {},
   "source": [
    "![svm](svm.jpg)"
   ]
  },
  {
   "cell_type": "code",
   "execution_count": null,
   "metadata": {
    "collapsed": true
   },
   "outputs": [],
   "source": []
  }
 ],
 "metadata": {
  "kernelspec": {
   "display_name": "Python 3",
   "language": "python",
   "name": "python3"
  },
  "language_info": {
   "codemirror_mode": {
    "name": "ipython",
    "version": 3
   },
   "file_extension": ".py",
   "mimetype": "text/x-python",
   "name": "python",
   "nbconvert_exporter": "python",
   "pygments_lexer": "ipython3",
   "version": "3.6.0"
  }
 },
 "nbformat": 4,
 "nbformat_minor": 2
}
