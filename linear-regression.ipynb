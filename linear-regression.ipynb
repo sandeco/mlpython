{
 "cells": [
  {
   "cell_type": "markdown",
   "metadata": {},
   "source": [
    "<h1 style=\"color:blue;\"> REGRESSÃO LINEAR </h1>\n",
    "### Verificando o preço de um apartamento\n",
    "\n",
    "Regressão Linear é o processo estatístico que procura determinar a \n",
    "equação matemática (função agente) \n",
    "mais adequada para definir a relação entre duas variáveis.\n",
    "\n",
    "Muitas vezes a posição dos pontos experimentais no diagrama de dispersão sugere a existência de uma relação funcional entre as duas variáveis.\n"
   ]
  },
  {
   "cell_type": "code",
   "execution_count": 226,
   "metadata": {
    "collapsed": false
   },
   "outputs": [],
   "source": [
    "import numpy as np\n",
    "import pandas as pd\n",
    "import matplotlib.pyplot as plt\n",
    "import seaborn as sb\n",
    "\n",
    "from sklearn import linear_model\n",
    "\n",
    "%matplotlib inline"
   ]
  },
  {
   "cell_type": "markdown",
   "metadata": {},
   "source": [
    "<h4 style=\"color:blue;\">LENDO O ARQUIVO DE DADOS </h4>"
   ]
  },
  {
   "cell_type": "code",
   "execution_count": 227,
   "metadata": {
    "collapsed": false
   },
   "outputs": [],
   "source": [
    "df = pd.read_csv(\"aptoN.csv\")\n"
   ]
  },
  {
   "cell_type": "markdown",
   "metadata": {},
   "source": [
    "<h4 style=\"color:blue;\">FORMATO DOS DADOS</h4>"
   ]
  },
  {
   "cell_type": "code",
   "execution_count": 228,
   "metadata": {
    "collapsed": false
   },
   "outputs": [
    {
     "data": {
      "text/plain": [
       "(34, 4)"
      ]
     },
     "execution_count": 228,
     "metadata": {},
     "output_type": "execute_result"
    }
   ],
   "source": [
    "df.shape"
   ]
  },
  {
   "cell_type": "markdown",
   "metadata": {},
   "source": [
    "<h4 style=\"color:blue;\">TIPOS DOS DADOS</h4>"
   ]
  },
  {
   "cell_type": "code",
   "execution_count": 229,
   "metadata": {
    "collapsed": false
   },
   "outputs": [
    {
     "data": {
      "text/plain": [
       "id               int64\n",
       "m2               int64\n",
       "preco          float64\n",
       "localizacao     object\n",
       "dtype: object"
      ]
     },
     "execution_count": 229,
     "metadata": {},
     "output_type": "execute_result"
    }
   ],
   "source": [
    "df.dtypes"
   ]
  },
  {
   "cell_type": "markdown",
   "metadata": {},
   "source": [
    "<h4 style=\"color:blue;\">PRIMEIROS REGISTROS</h4>"
   ]
  },
  {
   "cell_type": "code",
   "execution_count": 230,
   "metadata": {
    "collapsed": false
   },
   "outputs": [
    {
     "data": {
      "text/html": [
       "<div>\n",
       "<table border=\"1\" class=\"dataframe\">\n",
       "  <thead>\n",
       "    <tr style=\"text-align: right;\">\n",
       "      <th></th>\n",
       "      <th>id</th>\n",
       "      <th>m2</th>\n",
       "      <th>preco</th>\n",
       "      <th>localizacao</th>\n",
       "    </tr>\n",
       "  </thead>\n",
       "  <tbody>\n",
       "    <tr>\n",
       "      <th>0</th>\n",
       "      <td>111</td>\n",
       "      <td>76</td>\n",
       "      <td>210.0</td>\n",
       "      <td>B</td>\n",
       "    </tr>\n",
       "    <tr>\n",
       "      <th>1</th>\n",
       "      <td>2</td>\n",
       "      <td>78</td>\n",
       "      <td>250.0</td>\n",
       "      <td>B</td>\n",
       "    </tr>\n",
       "    <tr>\n",
       "      <th>2</th>\n",
       "      <td>232</td>\n",
       "      <td>100</td>\n",
       "      <td>310.0</td>\n",
       "      <td>B</td>\n",
       "    </tr>\n",
       "    <tr>\n",
       "      <th>3</th>\n",
       "      <td>4</td>\n",
       "      <td>77</td>\n",
       "      <td>220.0</td>\n",
       "      <td>B</td>\n",
       "    </tr>\n",
       "    <tr>\n",
       "      <th>4</th>\n",
       "      <td>5</td>\n",
       "      <td>80</td>\n",
       "      <td>300.0</td>\n",
       "      <td>E</td>\n",
       "    </tr>\n",
       "  </tbody>\n",
       "</table>\n",
       "</div>"
      ],
      "text/plain": [
       "    id   m2  preco localizacao\n",
       "0  111   76  210.0           B\n",
       "1    2   78  250.0           B\n",
       "2  232  100  310.0           B\n",
       "3    4   77  220.0           B\n",
       "4    5   80  300.0           E"
      ]
     },
     "execution_count": 230,
     "metadata": {},
     "output_type": "execute_result"
    }
   ],
   "source": [
    "df.head()"
   ]
  },
  {
   "cell_type": "markdown",
   "metadata": {},
   "source": [
    "<h4 style=\"color:blue;\">RESUMO DO ARQUIVO DE DADOS</h4>"
   ]
  },
  {
   "cell_type": "code",
   "execution_count": 231,
   "metadata": {
    "collapsed": false
   },
   "outputs": [
    {
     "data": {
      "text/html": [
       "<div>\n",
       "<table border=\"1\" class=\"dataframe\">\n",
       "  <thead>\n",
       "    <tr style=\"text-align: right;\">\n",
       "      <th></th>\n",
       "      <th>id</th>\n",
       "      <th>m2</th>\n",
       "      <th>preco</th>\n",
       "    </tr>\n",
       "  </thead>\n",
       "  <tbody>\n",
       "    <tr>\n",
       "      <th>count</th>\n",
       "      <td>34.000000</td>\n",
       "      <td>34.000000</td>\n",
       "      <td>29.000000</td>\n",
       "    </tr>\n",
       "    <tr>\n",
       "      <th>mean</th>\n",
       "      <td>85.088235</td>\n",
       "      <td>114.647059</td>\n",
       "      <td>277.068966</td>\n",
       "    </tr>\n",
       "    <tr>\n",
       "      <th>std</th>\n",
       "      <td>186.458927</td>\n",
       "      <td>44.142251</td>\n",
       "      <td>99.080750</td>\n",
       "    </tr>\n",
       "    <tr>\n",
       "      <th>min</th>\n",
       "      <td>2.000000</td>\n",
       "      <td>50.000000</td>\n",
       "      <td>100.000000</td>\n",
       "    </tr>\n",
       "    <tr>\n",
       "      <th>25%</th>\n",
       "      <td>13.250000</td>\n",
       "      <td>78.500000</td>\n",
       "      <td>210.000000</td>\n",
       "    </tr>\n",
       "    <tr>\n",
       "      <th>50%</th>\n",
       "      <td>21.500000</td>\n",
       "      <td>100.000000</td>\n",
       "      <td>270.000000</td>\n",
       "    </tr>\n",
       "    <tr>\n",
       "      <th>75%</th>\n",
       "      <td>29.750000</td>\n",
       "      <td>150.000000</td>\n",
       "      <td>350.000000</td>\n",
       "    </tr>\n",
       "    <tr>\n",
       "      <th>max</th>\n",
       "      <td>988.000000</td>\n",
       "      <td>200.000000</td>\n",
       "      <td>500.000000</td>\n",
       "    </tr>\n",
       "  </tbody>\n",
       "</table>\n",
       "</div>"
      ],
      "text/plain": [
       "               id          m2       preco\n",
       "count   34.000000   34.000000   29.000000\n",
       "mean    85.088235  114.647059  277.068966\n",
       "std    186.458927   44.142251   99.080750\n",
       "min      2.000000   50.000000  100.000000\n",
       "25%     13.250000   78.500000  210.000000\n",
       "50%     21.500000  100.000000  270.000000\n",
       "75%     29.750000  150.000000  350.000000\n",
       "max    988.000000  200.000000  500.000000"
      ]
     },
     "execution_count": 231,
     "metadata": {},
     "output_type": "execute_result"
    }
   ],
   "source": [
    "df.describe()"
   ]
  },
  {
   "cell_type": "markdown",
   "metadata": {},
   "source": [
    "<h4 style=\"color:blue;\">REMOVENDO COLUNAS</h4>\n",
    "A Coluna ID é uma coluna que gera ruído\n",
    "\n",
    "\n",
    "\n",
    "<h5 style=\"color:blue;\">DUAS FORMAS DE EXCLUIR COLUNAS</h5>\n",
    "df.drop(df.columns[0], axis=1, inplace=True) <br />\n",
    "Para mais de uma coluna use um vetor [0,1] por exemplo \n",
    "\n",
    "ou\n",
    "\n",
    "df.drop('nome_da_coluna', axis=1, inplace=True)"
   ]
  },
  {
   "cell_type": "code",
   "execution_count": 232,
   "metadata": {
    "collapsed": false
   },
   "outputs": [
    {
     "data": {
      "text/html": [
       "<div>\n",
       "<table border=\"1\" class=\"dataframe\">\n",
       "  <thead>\n",
       "    <tr style=\"text-align: right;\">\n",
       "      <th></th>\n",
       "      <th>m2</th>\n",
       "      <th>preco</th>\n",
       "      <th>localizacao</th>\n",
       "    </tr>\n",
       "  </thead>\n",
       "  <tbody>\n",
       "    <tr>\n",
       "      <th>29</th>\n",
       "      <td>90</td>\n",
       "      <td>230.0</td>\n",
       "      <td>B</td>\n",
       "    </tr>\n",
       "    <tr>\n",
       "      <th>30</th>\n",
       "      <td>160</td>\n",
       "      <td>180.0</td>\n",
       "      <td>R</td>\n",
       "    </tr>\n",
       "    <tr>\n",
       "      <th>31</th>\n",
       "      <td>100</td>\n",
       "      <td>500.0</td>\n",
       "      <td>E</td>\n",
       "    </tr>\n",
       "    <tr>\n",
       "      <th>32</th>\n",
       "      <td>160</td>\n",
       "      <td>380.0</td>\n",
       "      <td>B</td>\n",
       "    </tr>\n",
       "    <tr>\n",
       "      <th>33</th>\n",
       "      <td>200</td>\n",
       "      <td>NaN</td>\n",
       "      <td>E</td>\n",
       "    </tr>\n",
       "  </tbody>\n",
       "</table>\n",
       "</div>"
      ],
      "text/plain": [
       "     m2  preco localizacao\n",
       "29   90  230.0           B\n",
       "30  160  180.0           R\n",
       "31  100  500.0           E\n",
       "32  160  380.0           B\n",
       "33  200    NaN           E"
      ]
     },
     "execution_count": 232,
     "metadata": {},
     "output_type": "execute_result"
    }
   ],
   "source": [
    "df.drop('id', axis=1, inplace=True)\n",
    "\n",
    "df.tail()"
   ]
  },
  {
   "cell_type": "markdown",
   "metadata": {},
   "source": [
    "<h4 style=\"color:blue;\">REMOVENDO PREÇOS NULOS</h4>\n",
    "\n",
    "SEQUENCIA DOS COMANDOS PANDAS <br />\n",
    "<ul>\n",
    "  <li>df.isnull()</li>\n",
    "  <li>df.isnull().any(axis=1)</li>\n",
    "  <li>df[df.isnull().any(axis=1)]</li>\n",
    "  <li>df[df.isnull().any(axis=1)].index</li>\n",
    "  <li>df = df.drop(df.index[[9,16,24,27,33]])</li>\n",
    "  <li>df.drop(df.index[df[df.isnull().any(axis=1)].index], inplace=True)</li>\n",
    "</ul>\n",
    "\n",
    "Aninhando tudo em uma linha só"
   ]
  },
  {
   "cell_type": "code",
   "execution_count": 233,
   "metadata": {
    "collapsed": false
   },
   "outputs": [
    {
     "data": {
      "text/html": [
       "<div>\n",
       "<table border=\"1\" class=\"dataframe\">\n",
       "  <thead>\n",
       "    <tr style=\"text-align: right;\">\n",
       "      <th></th>\n",
       "      <th>m2</th>\n",
       "      <th>preco</th>\n",
       "      <th>localizacao</th>\n",
       "    </tr>\n",
       "  </thead>\n",
       "  <tbody>\n",
       "    <tr>\n",
       "      <th>9</th>\n",
       "      <td>170</td>\n",
       "      <td>NaN</td>\n",
       "      <td>R</td>\n",
       "    </tr>\n",
       "    <tr>\n",
       "      <th>16</th>\n",
       "      <td>80</td>\n",
       "      <td>NaN</td>\n",
       "      <td>R</td>\n",
       "    </tr>\n",
       "    <tr>\n",
       "      <th>24</th>\n",
       "      <td>75</td>\n",
       "      <td>NaN</td>\n",
       "      <td>E</td>\n",
       "    </tr>\n",
       "    <tr>\n",
       "      <th>27</th>\n",
       "      <td>100</td>\n",
       "      <td>NaN</td>\n",
       "      <td>B</td>\n",
       "    </tr>\n",
       "    <tr>\n",
       "      <th>33</th>\n",
       "      <td>200</td>\n",
       "      <td>NaN</td>\n",
       "      <td>E</td>\n",
       "    </tr>\n",
       "  </tbody>\n",
       "</table>\n",
       "</div>"
      ],
      "text/plain": [
       "     m2  preco localizacao\n",
       "9   170    NaN           R\n",
       "16   80    NaN           R\n",
       "24   75    NaN           E\n",
       "27  100    NaN           B\n",
       "33  200    NaN           E"
      ]
     },
     "execution_count": 233,
     "metadata": {},
     "output_type": "execute_result"
    }
   ],
   "source": [
    "sem_preco = df[df.isnull().any(axis=1)]\n",
    "sem_preco"
   ]
  },
  {
   "cell_type": "code",
   "execution_count": 234,
   "metadata": {
    "collapsed": false
   },
   "outputs": [
    {
     "data": {
      "text/html": [
       "<div>\n",
       "<table border=\"1\" class=\"dataframe\">\n",
       "  <thead>\n",
       "    <tr style=\"text-align: right;\">\n",
       "      <th></th>\n",
       "      <th>m2</th>\n",
       "      <th>preco</th>\n",
       "    </tr>\n",
       "  </thead>\n",
       "  <tbody>\n",
       "    <tr>\n",
       "      <th>count</th>\n",
       "      <td>29.000000</td>\n",
       "      <td>29.000000</td>\n",
       "    </tr>\n",
       "    <tr>\n",
       "      <th>mean</th>\n",
       "      <td>112.862069</td>\n",
       "      <td>277.068966</td>\n",
       "    </tr>\n",
       "    <tr>\n",
       "      <th>std</th>\n",
       "      <td>42.625214</td>\n",
       "      <td>99.080750</td>\n",
       "    </tr>\n",
       "    <tr>\n",
       "      <th>min</th>\n",
       "      <td>50.000000</td>\n",
       "      <td>100.000000</td>\n",
       "    </tr>\n",
       "    <tr>\n",
       "      <th>25%</th>\n",
       "      <td>78.000000</td>\n",
       "      <td>210.000000</td>\n",
       "    </tr>\n",
       "    <tr>\n",
       "      <th>50%</th>\n",
       "      <td>100.000000</td>\n",
       "      <td>270.000000</td>\n",
       "    </tr>\n",
       "    <tr>\n",
       "      <th>75%</th>\n",
       "      <td>150.000000</td>\n",
       "      <td>350.000000</td>\n",
       "    </tr>\n",
       "    <tr>\n",
       "      <th>max</th>\n",
       "      <td>200.000000</td>\n",
       "      <td>500.000000</td>\n",
       "    </tr>\n",
       "  </tbody>\n",
       "</table>\n",
       "</div>"
      ],
      "text/plain": [
       "               m2       preco\n",
       "count   29.000000   29.000000\n",
       "mean   112.862069  277.068966\n",
       "std     42.625214   99.080750\n",
       "min     50.000000  100.000000\n",
       "25%     78.000000  210.000000\n",
       "50%    100.000000  270.000000\n",
       "75%    150.000000  350.000000\n",
       "max    200.000000  500.000000"
      ]
     },
     "execution_count": 234,
     "metadata": {},
     "output_type": "execute_result"
    }
   ],
   "source": [
    "df.drop(df.index[df[df.isnull().any(axis=1)].index], inplace=True)\n",
    "\n",
    "df.describe()"
   ]
  },
  {
   "cell_type": "markdown",
   "metadata": {},
   "source": [
    "<h4 style=\"color:blue;\">VISUALIZANDO HISTOGRAMA DE PREÇOS</h4>"
   ]
  },
  {
   "cell_type": "code",
   "execution_count": 235,
   "metadata": {
    "collapsed": false
   },
   "outputs": [
    {
     "data": {
      "text/plain": [
       "<matplotlib.axes._subplots.AxesSubplot at 0x7fdc85b3a278>"
      ]
     },
     "execution_count": 235,
     "metadata": {},
     "output_type": "execute_result"
    },
    {
     "data": {
      "image/png": "[encoded data removed]",
      "text/plain": [
       "<matplotlib.figure.Figure at 0x7fdc85b8a978>"
      ]
     },
     "metadata": {},
     "output_type": "display_data"
    }
   ],
   "source": [
    "df['preco'].hist()"
   ]
  },
  {
   "cell_type": "markdown",
   "metadata": {},
   "source": [
    "<h4 style=\"color:blue;\">VISUALIZANDO HISTOGRAMA DE PREÇOS</h4>"
   ]
  },
  {
   "cell_type": "code",
   "execution_count": 236,
   "metadata": {
    "collapsed": false
   },
   "outputs": [
    {
     "data": {
      "text/plain": [
       "<matplotlib.axes._subplots.AxesSubplot at 0x7fdc857f1a58>"
      ]
     },
     "execution_count": 236,
     "metadata": {},
     "output_type": "execute_result"
    },
    {
     "data": {
      "image/png": "[encoded data removed]",
      "text/plain": [
       "<matplotlib.figure.Figure at 0x7fdc85815e80>"
      ]
     },
     "metadata": {},
     "output_type": "display_data"
    }
   ],
   "source": [
    "df['m2'].hist()"
   ]
  },
  {
   "cell_type": "markdown",
   "metadata": {},
   "source": [
    "<h4 style=\"color:blue;\">DISCRETIZANDO OS DADOS</h4>"
   ]
  },
  {
   "cell_type": "code",
   "execution_count": 237,
   "metadata": {
    "collapsed": false
   },
   "outputs": [
    {
     "data": {
      "text/plain": [
       "m2               int64\n",
       "preco          float64\n",
       "localizacao     object\n",
       "dtype: object"
      ]
     },
     "execution_count": 237,
     "metadata": {},
     "output_type": "execute_result"
    }
   ],
   "source": [
    "df.loc[df['localizacao']=='R','localizacao']=0\n",
    "df.loc[df['localizacao']=='B','localizacao']=1\n",
    "df.loc[df['localizacao']=='E','localizacao']=2\n",
    "\n",
    "df.dtypes"
   ]
  },
  {
   "cell_type": "code",
   "execution_count": 238,
   "metadata": {
    "collapsed": false
   },
   "outputs": [
    {
     "data": {
      "text/plain": [
       "m2               int64\n",
       "preco          float64\n",
       "localizacao      int64\n",
       "dtype: object"
      ]
     },
     "execution_count": 238,
     "metadata": {},
     "output_type": "execute_result"
    }
   ],
   "source": [
    "df['localizacao'] = df['localizacao'].astype('int64')\n",
    "df.dtypes"
   ]
  },
  {
   "cell_type": "markdown",
   "metadata": {},
   "source": [
    "<h4 style=\"color:blue;\">VERIFICANDO DISPERSÃO DOS DADOS<h4>"
   ]
  },
  {
   "cell_type": "code",
   "execution_count": 239,
   "metadata": {
    "collapsed": false
   },
   "outputs": [
    {
     "data": {
      "text/plain": [
       "<seaborn.axisgrid.PairGrid at 0x7fdc857de5c0>"
      ]
     },
     "execution_count": 239,
     "metadata": {},
     "output_type": "execute_result"
    },
    {
     "data": {
      "image/png": "[encoded data removed]",
      "text/plain": [
       "<matplotlib.figure.Figure at 0x7fdc85ce6208>"
      ]
     },
     "metadata": {},
     "output_type": "display_data"
    }
   ],
   "source": [
    "sb.pairplot(df, hue='localizacao')"
   ]
  },
  {
   "cell_type": "markdown",
   "metadata": {},
   "source": [
    "<h2 style='color:blue'>CORRELAÇÃO</h2>\n",
    "Coeficiente de correlação, indica a força e a direção do relacionamento linear entre duas variáveis aleatórias. No uso estatístico geral, correlação ou co-relação se refere a medida da relação entre duas variáveis, embora correlação não implique causalidade. "
   ]
  },
  {
   "cell_type": "code",
   "execution_count": 241,
   "metadata": {
    "collapsed": false
   },
   "outputs": [
    {
     "data": {
      "text/html": [
       "<div>\n",
       "<table border=\"1\" class=\"dataframe\">\n",
       "  <thead>\n",
       "    <tr style=\"text-align: right;\">\n",
       "      <th></th>\n",
       "      <th>m2</th>\n",
       "      <th>preco</th>\n",
       "      <th>localizacao</th>\n",
       "    </tr>\n",
       "  </thead>\n",
       "  <tbody>\n",
       "    <tr>\n",
       "      <th>m2</th>\n",
       "      <td>1.000000</td>\n",
       "      <td>0.540551</td>\n",
       "      <td>-0.049417</td>\n",
       "    </tr>\n",
       "    <tr>\n",
       "      <th>preco</th>\n",
       "      <td>0.540551</td>\n",
       "      <td>1.000000</td>\n",
       "      <td>0.651560</td>\n",
       "    </tr>\n",
       "    <tr>\n",
       "      <th>localizacao</th>\n",
       "      <td>-0.049417</td>\n",
       "      <td>0.651560</td>\n",
       "      <td>1.000000</td>\n",
       "    </tr>\n",
       "  </tbody>\n",
       "</table>\n",
       "</div>"
      ],
      "text/plain": [
       "                   m2     preco  localizacao\n",
       "m2           1.000000  0.540551    -0.049417\n",
       "preco        0.540551  1.000000     0.651560\n",
       "localizacao -0.049417  0.651560     1.000000"
      ]
     },
     "execution_count": 241,
     "metadata": {},
     "output_type": "execute_result"
    }
   ],
   "source": [
    "df.corr(method='spearman')"
   ]
  },
  {
   "cell_type": "markdown",
   "metadata": {},
   "source": [
    "<h2 style='color:blue'>COVARIÂNCIA</h2>\n",
    "Em teoria da probabilidade e na estatística, a covariância, ou variância conjunta, é uma medida do grau de interdependência (ou inter-relação) numérica entre duas variáveis aleatórias. Assim, variáveis independentes têm covariância zero."
   ]
  },
  {
   "cell_type": "code",
   "execution_count": 242,
   "metadata": {
    "collapsed": false
   },
   "outputs": [
    {
     "data": {
      "text/html": [
       "<div>\n",
       "<table border=\"1\" class=\"dataframe\">\n",
       "  <thead>\n",
       "    <tr style=\"text-align: right;\">\n",
       "      <th></th>\n",
       "      <th>m2</th>\n",
       "      <th>preco</th>\n",
       "      <th>localizacao</th>\n",
       "    </tr>\n",
       "  </thead>\n",
       "  <tbody>\n",
       "    <tr>\n",
       "      <th>m2</th>\n",
       "      <td>1816.908867</td>\n",
       "      <td>1991.188424</td>\n",
       "      <td>-1.530788</td>\n",
       "    </tr>\n",
       "    <tr>\n",
       "      <th>preco</th>\n",
       "      <td>1991.188424</td>\n",
       "      <td>9816.995074</td>\n",
       "      <td>35.461823</td>\n",
       "    </tr>\n",
       "    <tr>\n",
       "      <th>localizacao</th>\n",
       "      <td>-1.530788</td>\n",
       "      <td>35.461823</td>\n",
       "      <td>0.248768</td>\n",
       "    </tr>\n",
       "  </tbody>\n",
       "</table>\n",
       "</div>"
      ],
      "text/plain": [
       "                      m2        preco  localizacao\n",
       "m2           1816.908867  1991.188424    -1.530788\n",
       "preco        1991.188424  9816.995074    35.461823\n",
       "localizacao    -1.530788    35.461823     0.248768"
      ]
     },
     "execution_count": 242,
     "metadata": {},
     "output_type": "execute_result"
    }
   ],
   "source": [
    "df.cov()"
   ]
  },
  {
   "cell_type": "code",
   "execution_count": 243,
   "metadata": {
    "collapsed": false
   },
   "outputs": [
    {
     "data": {
      "text/plain": [
       "<seaborn.axisgrid.FacetGrid at 0x7fdc8539f748>"
      ]
     },
     "execution_count": 243,
     "metadata": {},
     "output_type": "execute_result"
    },
    {
     "data": {
      "image/png": "[encoded data removed]",
      "text/plain": [
       "<matplotlib.figure.Figure at 0x7fdc8528a198>"
      ]
     },
     "metadata": {},
     "output_type": "display_data"
    }
   ],
   "source": [
    "sb.lmplot(x='m2', \n",
    "          y='preco', \n",
    "          col=\"localizacao\", \n",
    "          hue=\"localizacao\", \n",
    "          data=df, \n",
    "          col_wrap=3, ci=None, \n",
    "          size=4)\n"
   ]
  },
  {
   "cell_type": "markdown",
   "metadata": {},
   "source": [
    "<h3 style='color:blue'> SELECIONANDO SOMENTE OS VALORES DO DATAFRAME</h3>"
   ]
  },
  {
   "cell_type": "code",
   "execution_count": 244,
   "metadata": {
    "collapsed": false
   },
   "outputs": [
    {
     "data": {
      "text/plain": [
       "array([[  76.,    1.,  210.],\n",
       "       [  78.,    1.,  250.],\n",
       "       [ 100.,    1.,  310.],\n",
       "       [  77.,    1.,  220.],\n",
       "       [  80.,    2.,  300.],\n",
       "       [  50.,    1.,  150.],\n",
       "       [  55.,    1.,  160.],\n",
       "       [  60.,    1.,  190.],\n",
       "       [ 200.,    1.,  400.],\n",
       "       [ 150.,    1.,  350.],\n",
       "       [ 115.,    1.,  310.],\n",
       "       [ 180.,    1.,  200.],\n",
       "       [  80.,    0.,  100.],\n",
       "       [ 100.,    1.,  230.],\n",
       "       [  76.,    2.,  400.],\n",
       "       [ 140.,    1.,  310.],\n",
       "       [ 120.,    1.,  250.],\n",
       "       [ 170.,    1.,  350.],\n",
       "       [  90.,    1.,  260.],\n",
       "       [ 110.,    1.,  280.],\n",
       "       [ 190.,    1.,  365.],\n",
       "       [ 120.,    2.,  450.],\n",
       "       [  66.,    0.,  100.],\n",
       "       [ 150.,    1.,  330.],\n",
       "       [ 130.,    1.,  270.],\n",
       "       [  90.,    1.,  230.],\n",
       "       [ 160.,    0.,  180.],\n",
       "       [ 100.,    2.,  500.],\n",
       "       [ 160.,    1.,  380.]])"
      ]
     },
     "execution_count": 244,
     "metadata": {},
     "output_type": "execute_result"
    }
   ],
   "source": [
    "treino = df[['m2','localizacao','preco']].values  ## ou .as_matrix()\n",
    "treino"
   ]
  },
  {
   "cell_type": "markdown",
   "metadata": {},
   "source": [
    "<h3 style='color:blue'>SELECIONANDO M2 E LOCALIZAÇÃO</h3>\n",
    "TREINO"
   ]
  },
  {
   "cell_type": "code",
   "execution_count": 245,
   "metadata": {
    "collapsed": false
   },
   "outputs": [
    {
     "data": {
      "text/plain": [
       "array([[  76.,    1.],\n",
       "       [  78.,    1.],\n",
       "       [ 100.,    1.],\n",
       "       [  77.,    1.],\n",
       "       [  80.,    2.],\n",
       "       [  50.,    1.],\n",
       "       [  55.,    1.],\n",
       "       [  60.,    1.],\n",
       "       [ 200.,    1.],\n",
       "       [ 150.,    1.],\n",
       "       [ 115.,    1.],\n",
       "       [ 180.,    1.],\n",
       "       [  80.,    0.],\n",
       "       [ 100.,    1.],\n",
       "       [  76.,    2.],\n",
       "       [ 140.,    1.],\n",
       "       [ 120.,    1.],\n",
       "       [ 170.,    1.],\n",
       "       [  90.,    1.],\n",
       "       [ 110.,    1.],\n",
       "       [ 190.,    1.],\n",
       "       [ 120.,    2.],\n",
       "       [  66.,    0.],\n",
       "       [ 150.,    1.],\n",
       "       [ 130.,    1.],\n",
       "       [  90.,    1.],\n",
       "       [ 160.,    0.],\n",
       "       [ 100.,    2.],\n",
       "       [ 160.,    1.]])"
      ]
     },
     "execution_count": 245,
     "metadata": {},
     "output_type": "execute_result"
    }
   ],
   "source": [
    "x = treino[:, 0:2]\n",
    "x"
   ]
  },
  {
   "cell_type": "markdown",
   "metadata": {},
   "source": [
    "<h3 style='color:blue'>SELECIONANDO OS PREÇOS</h3>\n",
    "ALVO"
   ]
  },
  {
   "cell_type": "code",
   "execution_count": 246,
   "metadata": {
    "collapsed": false
   },
   "outputs": [
    {
     "data": {
      "text/plain": [
       "array([[ 210.],\n",
       "       [ 250.],\n",
       "       [ 310.],\n",
       "       [ 220.],\n",
       "       [ 300.],\n",
       "       [ 150.],\n",
       "       [ 160.],\n",
       "       [ 190.],\n",
       "       [ 400.],\n",
       "       [ 350.],\n",
       "       [ 310.],\n",
       "       [ 200.],\n",
       "       [ 100.],\n",
       "       [ 230.],\n",
       "       [ 400.],\n",
       "       [ 310.],\n",
       "       [ 250.],\n",
       "       [ 350.],\n",
       "       [ 260.],\n",
       "       [ 280.],\n",
       "       [ 365.],\n",
       "       [ 450.],\n",
       "       [ 100.],\n",
       "       [ 330.],\n",
       "       [ 270.],\n",
       "       [ 230.],\n",
       "       [ 180.],\n",
       "       [ 500.],\n",
       "       [ 380.]])"
      ]
     },
     "execution_count": 246,
     "metadata": {},
     "output_type": "execute_result"
    }
   ],
   "source": [
    "y = treino[:, np.newaxis,2]\n",
    "y"
   ]
  },
  {
   "cell_type": "markdown",
   "metadata": {},
   "source": [
    "<h3 style='color:blue'>TREINANDO O MODELO</h3>"
   ]
  },
  {
   "cell_type": "code",
   "execution_count": 247,
   "metadata": {
    "collapsed": false
   },
   "outputs": [
    {
     "data": {
      "text/plain": [
       "LinearRegression(copy_X=True, fit_intercept=True, n_jobs=1, normalize=False)"
      ]
     },
     "execution_count": 247,
     "metadata": {},
     "output_type": "execute_result"
    }
   ],
   "source": [
    "regr = linear_model.LinearRegression()\n",
    "regr.fit(x,y)"
   ]
  },
  {
   "cell_type": "markdown",
   "metadata": {},
   "source": [
    "<h3 style='color:blue'>PREDIZENDO VALOR DE UM APTO</h3>"
   ]
  },
  {
   "cell_type": "code",
   "execution_count": 250,
   "metadata": {
    "collapsed": false
   },
   "outputs": [
    {
     "data": {
      "text/plain": [
       "array([[ 167.21874423]])"
      ]
     },
     "execution_count": 250,
     "metadata": {},
     "output_type": "execute_result"
    }
   ],
   "source": [
    "regr.predict([[150,0]])"
   ]
  }
 ],
 "metadata": {
  "anaconda-cloud": {},
  "kernelspec": {
   "display_name": "Python 3",
   "language": "python",
   "name": "python3"
  },
  "language_info": {
   "codemirror_mode": {
    "name": "ipython",
    "version": 3
   },
   "file_extension": ".py",
   "mimetype": "text/x-python",
   "name": "python",
   "nbconvert_exporter": "python",
   "pygments_lexer": "ipython3",
   "version": "3.6.0"
  }
 },
 "nbformat": 4,
 "nbformat_minor": 0
}
